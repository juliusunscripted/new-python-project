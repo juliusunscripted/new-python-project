{
 "cells": [
  {
   "cell_type": "markdown",
   "metadata": {
    "vscode": {
     "languageId": "plaintext"
    }
   },
   "source": [
    "# Example notebook\n",
    "\n",
    "- use polars for dataframe table\n",
    "- use plotly express for visualization\n",
    "- use structlog for logging\n",
    "- use itables for interactive table view\n",
    "\n",
    "## links to tutorials\n",
    "\n",
    "- https://realpython.com/polars-python/\n",
    "- https://docs.pola.rs/user-guide/misc/visualization/#plotly"
   ]
  },
  {
   "cell_type": "code",
   "execution_count": null,
   "metadata": {},
   "outputs": [],
   "source": [
    "import structlog\n",
    "import numpy as np\n",
    "import polars as pl\n",
    "import plotly.express as px\n",
    "from new_python_project.helpers.jupyter_notebook import itables_use_basic_config\n",
    "from itables import show\n",
    "from sklearn.datasets import load_iris"
   ]
  },
  {
   "cell_type": "code",
   "execution_count": null,
   "metadata": {},
   "outputs": [],
   "source": [
    "# # in case you want to export the notebook with interactive visualizations as html file later\n",
    "# from plotly.offline import init_notebook_mode\n",
    "\n",
    "# init_notebook_mode()"
   ]
  },
  {
   "cell_type": "code",
   "execution_count": null,
   "metadata": {},
   "outputs": [],
   "source": [
    "itables_use_basic_config()"
   ]
  },
  {
   "cell_type": "code",
   "execution_count": null,
   "metadata": {},
   "outputs": [],
   "source": [
    "log = structlog.stdlib.get_logger()"
   ]
  },
  {
   "cell_type": "code",
   "execution_count": null,
   "metadata": {},
   "outputs": [],
   "source": [
    "log.info(\"hi :)\")"
   ]
  },
  {
   "cell_type": "code",
   "execution_count": null,
   "metadata": {},
   "outputs": [],
   "source": [
    "# example dataset: https://scikit-learn.org/1.5/datasets/toy_dataset.html#iris-dataset\n",
    "dataset = load_iris(as_frame=True)\n",
    "dataset.keys()"
   ]
  },
  {
   "cell_type": "code",
   "execution_count": null,
   "metadata": {},
   "outputs": [],
   "source": [
    "# just for fun we use use a polars dataframe instead of pandas dataframe\n",
    "df = pl.from_pandas(dataset[\"data\"])\n",
    "df"
   ]
  },
  {
   "cell_type": "code",
   "execution_count": null,
   "metadata": {},
   "outputs": [],
   "source": [
    "# https://docs.pola.rs/user-guide/misc/visualization/#plotly\n",
    "px.scatter(\n",
    "    df,\n",
    "    x=\"sepal length (cm)\",\n",
    "    y=\"petal width (cm)\",\n",
    "    color=\"petal length (cm)\",\n",
    "    width=650,\n",
    ")"
   ]
  },
  {
   "cell_type": "code",
   "execution_count": null,
   "metadata": {},
   "outputs": [],
   "source": [
    "# interactive table inside notebook\n",
    "show(df)"
   ]
  },
  {
   "cell_type": "code",
   "execution_count": null,
   "metadata": {},
   "outputs": [],
   "source": [
    "df_filtered = df.filter(pl.col(\"sepal length (cm)\") > 5)\n",
    "df_filtered"
   ]
  },
  {
   "cell_type": "code",
   "execution_count": null,
   "metadata": {},
   "outputs": [],
   "source": [
    "# https://docs.pola.rs/user-guide/misc/visualization/#plotly\n",
    "fig = px.scatter(\n",
    "    df_filtered,\n",
    "    x=\"sepal length (cm)\",\n",
    "    y=\"petal width (cm)\",\n",
    "    color=\"petal length (cm)\",\n",
    "    width=650,\n",
    ")\n",
    "fig.update_xaxes(range=[0, 8], minallowed=-1, maxallowed=10)\n",
    "fig.update_yaxes(range=[0, 3], minallowed=-1, maxallowed=5)\n",
    "fig.show()"
   ]
  }
 ],
 "metadata": {
  "kernelspec": {
   "display_name": ".venv",
   "language": "python",
   "name": "python3"
  },
  "language_info": {
   "codemirror_mode": {
    "name": "ipython",
    "version": 3
   },
   "file_extension": ".py",
   "mimetype": "text/x-python",
   "name": "python",
   "nbconvert_exporter": "python",
   "pygments_lexer": "ipython3",
   "version": "3.12.3"
  }
 },
 "nbformat": 4,
 "nbformat_minor": 2
}
